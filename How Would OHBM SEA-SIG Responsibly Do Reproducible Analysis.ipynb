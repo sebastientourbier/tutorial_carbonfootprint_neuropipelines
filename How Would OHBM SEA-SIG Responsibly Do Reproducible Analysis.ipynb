{
 "cells": [
  {
   "cell_type": "markdown",
   "id": "415e7619",
   "metadata": {},
   "source": [
    "# How Would OHBM SEA-SIG Responsibly Do Reproducible Analysis"
   ]
  },
  {
   "cell_type": "markdown",
   "id": "85fe368b",
   "metadata": {},
   "source": [
    "## Problem Statement\n",
    "\n",
    "Here’s a simple \"real world\" problem. I have an MRI dataset organized following the Brain Imaging Data Structure (BIDS) community standard; I have a container from the collection of BIDS Apps I want to run (`mriqc` for instance here); and I’d like not only to \"manage\" the process and output in a reproducible way but also to track the carbon footprint of the run."
   ]
  },
  {
   "cell_type": "markdown",
   "id": "1a05eb33",
   "metadata": {},
   "source": [
    "## OHBM SEA-SIG Solution"
   ]
  },
  {
   "cell_type": "markdown",
   "id": "dc71d1ff",
   "metadata": {},
   "source": [
    "### In theory\n",
    "\n",
    "To achieve reproducibility, the dataset and the container should be under content management, and you should run your processing in a way that manages the output, following [\"Volume 1: How Would ReproNim Do Local Container Analysis\"](https://how-would.repronim.org/en/latest/vol01/localcontainer.html). Practically, this means that we should put the image file and the container under DataLad control and run the container on the data using `dataLad run-containers`. \n",
    "\n",
    "To track the carbon footprint of your run, there exists a few solution in Python for the moment such as [carbontracker](https://github.com/lfwa/carbontracker), [experiment-impact-tracker](https://github.com/Breakend/experiment-impact-tracker), and [codecarbon](https://www.google.com/url?sa=t&rct=j&q=&esrc=s&source=web&cd=&cad=rja&uact=8&ved=2ahUKEwig6J-1o7b0AhWziP0HHczsDP8QFnoECAcQAQ&url=https%3A%2F%2Fcodecarbon.io%2F&usg=AOvVaw0H9DY5tnp8PbQ9i-3U32ES). Here we will use `codecarbon`. You will see that it integrates with the addition of a few lines in a Python code and estimates the amount of carbon dioxide (CO2) produced by its execution."
   ]
  },
  {
   "cell_type": "markdown",
   "id": "d1a63e0b",
   "metadata": {},
   "source": [
    "### In practice"
   ]
  },
  {
   "cell_type": "markdown",
   "id": "5be2e0a3",
   "metadata": {},
   "source": [
    "#### 1. Import the different packages"
   ]
  },
  {
   "cell_type": "code",
   "execution_count": null,
   "id": "5c8fb2f9",
   "metadata": {},
   "outputs": [],
   "source": [
    "# Utilities\n",
    "import os\n",
    "import logging\n",
    "from pathlib import Path\n",
    "\n",
    "# Make datalad.api happy in the notebokk\n",
    "import nest_asyncio\n",
    "nest_asyncio.apply()\n",
    "\n",
    "# Import Datalad Python API\n",
    "import datalad.api as dl\n",
    "\n",
    "# Import the carbon tracker of codecarbon\n",
    "from codecarbon import EmissionsTracker"
   ]
  },
  {
   "cell_type": "markdown",
   "id": "3d653c9e",
   "metadata": {},
   "source": [
    "#### 2. Create a dataset to contain mriqc output "
   ]
  },
  {
   "cell_type": "code",
   "execution_count": null,
   "id": "0899fcf4",
   "metadata": {},
   "outputs": [],
   "source": [
    "projectds = 'ds000003-qc'\n",
    "projectds_dir = (Path(os.getcwd()) / projectds)\n",
    "ds = dl.create(path=projectds_dir, cfg_proc='text2git')\n",
    "# Change the current working directory to the project dataset directory\n",
    "os.chdir(ds.path)"
   ]
  },
  {
   "cell_type": "markdown",
   "id": "acfdaea8",
   "metadata": {},
   "source": [
    "#### 3. Install the [ReproNim/containers collection](https://github.com/ReproNim/containers)\n",
    "\n",
    "[ReproNim/containers](https://github.com/ReproNim/containers) provides a DataLad dataset (git/git-annex repository) that references a collection of popular computational tools provided within ready to use containerized environments.\n",
    "The code below installs the `ReproNim/containers` as a subdataset under the ``containers`` directory:"
   ]
  },
  {
   "cell_type": "code",
   "execution_count": null,
   "id": "81a9e09f",
   "metadata": {},
   "outputs": [],
   "source": [
    "ds_containers = dl.install(\n",
    "    dataset=ds,\n",
    "    source='///repronim/containers',\n",
    "    path='containers'\n",
    ")"
   ]
  },
  {
   "cell_type": "markdown",
   "id": "0e3b0605",
   "metadata": {},
   "source": [
    "`ds.containers_list(recursive=True)` allows you to show the list of tools available:"
   ]
  },
  {
   "cell_type": "code",
   "execution_count": null,
   "id": "bdfb6665",
   "metadata": {
    "scrolled": true
   },
   "outputs": [],
   "source": [
    "ds.containers_list(recursive=True)"
   ]
  },
  {
   "cell_type": "markdown",
   "id": "630cf4fc",
   "metadata": {},
   "source": [
    "#### 4. Freeze `mriqc` version to ``0.16.0``"
   ]
  },
  {
   "cell_type": "code",
   "execution_count": null,
   "id": "8938278b",
   "metadata": {},
   "outputs": [],
   "source": [
    "res = ds.run(\n",
    "    message=\"Downgrade/Freeze mriqc container version\",\n",
    "    cmd='containers/scripts/freeze_versions \"bids-mriqc=0.16.0\"'\n",
    ")"
   ]
  },
  {
   "cell_type": "markdown",
   "id": "0350881b",
   "metadata": {},
   "source": [
    "#### 5. Install input dataset\n",
    "\n",
    "We use the dataset redistributed by ReproNim for the testing `repronim/containers` originating from OpenNeuro ds000003 dataset."
   ]
  },
  {
   "cell_type": "code",
   "execution_count": null,
   "id": "1aed0654",
   "metadata": {},
   "outputs": [],
   "source": [
    "ds_sourcedata = dl.install(\n",
    "    dataset=ds,\n",
    "    source='https://github.com/ReproNim/ds000003-demo',\n",
    "    path='sourcedata'\n",
    ")"
   ]
  },
  {
   "cell_type": "markdown",
   "id": "bdd882a7",
   "metadata": {},
   "source": [
    "#### 6. Run `mriqc` with `datalad run-containers` with carbon footprint tracking\n",
    "\n",
    "To track carbon footprint during the execution of `mriqc` with `datalad run-containers`, you will just need to surround the invocation of the `containers_run` (the Datalad Python API equivant of `datalad run-containers`) with a few lines of `codecarbon` code as follows:"
   ]
  },
  {
   "cell_type": "code",
   "execution_count": null,
   "id": "044b427d",
   "metadata": {},
   "outputs": [],
   "source": [
    "# Create a code/ directory in the dataset\n",
    "# where codecarbon will save CO2 emissions\n",
    "# in a CSV file called \"emissions.csv\"\n",
    "code_dir = str(Path(ds.path) / \"code\")\n",
    "os.makedirs(code_dir, exist_ok = True)\n",
    "\n",
    "# Create and start the carbon footprint tracker\n",
    "tracker = EmissionsTracker(\n",
    "    project_name=f\"mriqc-0.16.0\",\n",
    "    output_dir=code_dir,\n",
    "    measure_power_secs=15,\n",
    ")\n",
    "tracker.start()\n",
    "\n",
    "# Run `mriqc` with `datalad run-containers`\n",
    "mriqc_run_results = ds.containers_run(\n",
    "    cmd='{inputs} {outputs} participant group -w workdir',\n",
    "    inputs=[\"sourcedata\"],\n",
    "    outputs=[\"derivatives\"],\n",
    "    container_name=\"containers/bids-mriqc\"\n",
    ")\n",
    "\n",
    "# Stop the carbon footprint tracker and get the estimated CO2 emissions\n",
    "emissions: float = tracker.stop()\n",
    "print(f\"CARBON FOOTPRINT:\\n\\t* Estimated Co2 emissions = {emissions} kg\")"
   ]
  }
 ],
 "metadata": {
  "kernelspec": {
   "display_name": "Python 3 (ipykernel)",
   "language": "python",
   "name": "python3"
  },
  "language_info": {
   "codemirror_mode": {
    "name": "ipython",
    "version": 3
   },
   "file_extension": ".py",
   "mimetype": "text/x-python",
   "name": "python",
   "nbconvert_exporter": "python",
   "pygments_lexer": "ipython3",
   "version": "3.7.10"
  }
 },
 "nbformat": 4,
 "nbformat_minor": 5
}
